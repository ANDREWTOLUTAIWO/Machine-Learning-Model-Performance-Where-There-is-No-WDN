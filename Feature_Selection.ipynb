{
 "cells": [
  {
   "cell_type": "code",
   "execution_count": 37,
   "id": "cff29c47-c73d-4a39-99f2-0de42135faf7",
   "metadata": {},
   "outputs": [],
   "source": [
    "# FEATURE SELECTION\n",
    "import pandas as pd\n",
    "import numpy as np\n",
    "\n",
    "# Pearson Correlation\n",
    "def pearson_correlation(data):\n",
    "    import matplotlib.pyplot as plt\n",
    "    import seaborn as sns\n",
    "    corr = data.corr()\n",
    "    #Plotting heatmap\n",
    "    plt.figure(figsize = (10,6))\n",
    "    return sns.heatmap(corr, annot=True)\n",
    "    \n",
    "\n",
    "# Information Gain\n",
    "def information_gain(x, y):\n",
    "    from sklearn.feature_selection import mutual_info_classif\n",
    "    from sklearn.feature_selection import SelectKBest\n",
    "    # Determine the mutual information\n",
    "    mutual_info = mutual_info_classif(x, y)\n",
    "    # Select best five\n",
    "    five_best = SelectKBest(mutual_info_classif, k=5)\n",
    "    five_best.fit(x, y)\n",
    "    index = x.columns[five_best.get_support()]\n",
    "    score = five_best.scores_\n",
    "    scores = pd.Series(score)\n",
    "    scores.index = x.columns\n",
    "    print(scores)\n",
    "    \n",
    "# Recursive Feature Elimination\n",
    "def recursive_feature_elimination(x, y):\n",
    "    from sklearn. feature_selection import RFE\n",
    "    from sklearn.linear_model import SGDRegressor\n",
    "    model = SGDRegressor(max_iter=1000, tol=1e-3)\n",
    "    rfe = RFE(model, n_features_to_select=5)\n",
    "    fit = rfe.fit(x, y)\n",
    "    # Representing in list form\n",
    "    feature_ranking = pd.Series(fit.ranking_)\n",
    "    feature_selected = pd.Series(fit.support_)\n",
    "    feature_ranking.index = x.columns\n",
    "    print(feature_ranking)\n",
    "\n",
    "# Testing the code\n",
    "# Reading data\n",
    "data = pd.read_csv('jan.csv')\n",
    "\n",
    "#Separate target variable from input variables\n",
    "X = data.drop(columns='Volume of water consumed in a month in liters', axis=1)\n",
    "Y = data_var['Volume of water consumed in a month in liters']\n",
    "\n",
    "# Testing the feature selection code\n",
    "pearson_correlation(data)\n",
    "\n",
    "information_gain(X, Y)\n",
    "\n",
    "recursive_feature_elimination(X, Y)\n"
   ]
  },
  {
   "cell_type": "code",
   "execution_count": null,
   "id": "7105b906-a479-4889-90fc-58e9cd39a6c3",
   "metadata": {},
   "outputs": [],
   "source": []
  }
 ],
 "metadata": {
  "kernelspec": {
   "display_name": "Python 3 (ipykernel)",
   "language": "python",
   "name": "python3"
  },
  "language_info": {
   "codemirror_mode": {
    "name": "ipython",
    "version": 3
   },
   "file_extension": ".py",
   "mimetype": "text/x-python",
   "name": "python",
   "nbconvert_exporter": "python",
   "pygments_lexer": "ipython3",
   "version": "3.9.7"
  }
 },
 "nbformat": 4,
 "nbformat_minor": 5
}
